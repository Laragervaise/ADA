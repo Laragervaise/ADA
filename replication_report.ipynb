{
 "cells": [
  {
   "cell_type": "markdown",
   "metadata": {},
   "source": [
    "### Predicting the Present with Google Trends"
   ]
  },
  {
   "cell_type": "markdown",
   "metadata": {},
   "source": [
    "In this notebook, I try to replicate two figures extracted from the paper \"Predicting the Present with Google Trends\",HYUNYOUNG CHOI and HAL VARIAN, Google, Inc., California, USA."
   ]
  },
  {
   "cell_type": "markdown",
   "metadata": {},
   "source": [
    "### Imports"
   ]
  },
  {
   "cell_type": "code",
   "execution_count": 130,
   "metadata": {},
   "outputs": [],
   "source": [
    "import pandas as pd\n",
    "import numpy as np\n",
    "import matplotlib.pyplot as plt\n",
    "%matplotlib inline\n",
    "from datetime import datetime\n",
    "from statsmodels.tools.eval_measures import meanabs\n",
    "from statsmodels.tsa.ar_model import AutoReg\n",
    "import statsmodels.api as sm\n",
    "from statsmodels.tsa.seasonal import STL\n",
    "\n",
    "DATA_FOLDER = 'data/'"
   ]
  },
  {
   "cell_type": "markdown",
   "metadata": {
    "ExecuteTime": {
     "end_time": "2020-10-27T11:39:17.463582Z",
     "start_time": "2020-10-27T11:39:16.995136Z"
    }
   },
   "source": [
    "# Figure 2 replication"
   ]
  },
  {
   "cell_type": "markdown",
   "metadata": {},
   "source": [
    "## 1 - Data wrangling"
   ]
  },
  {
   "cell_type": "markdown",
   "metadata": {},
   "source": [
    "### Loading the \"Motor Vehicles and Parts Dealers\" dataset"
   ]
  },
  {
   "cell_type": "code",
   "execution_count": 3,
   "metadata": {
    "ExecuteTime": {
     "end_time": "2020-10-27T11:39:18.530189Z",
     "start_time": "2020-10-27T11:39:18.481151Z"
    }
   },
   "outputs": [],
   "source": [
    "autos = pd.read_csv(DATA_FOLDER+\"merged_autos.csv\")\n",
    "autos.Period = pd.to_datetime(autos.Period)"
   ]
  },
  {
   "cell_type": "markdown",
   "metadata": {},
   "source": [
    "### Adding the log of the sales"
   ]
  },
  {
   "cell_type": "code",
   "execution_count": 4,
   "metadata": {
    "ExecuteTime": {
     "end_time": "2020-10-27T11:39:19.763138Z",
     "start_time": "2020-10-27T11:39:19.725337Z"
    }
   },
   "outputs": [
    {
     "data": {
      "text/html": [
       "<div>\n",
       "<style scoped>\n",
       "    .dataframe tbody tr th:only-of-type {\n",
       "        vertical-align: middle;\n",
       "    }\n",
       "\n",
       "    .dataframe tbody tr th {\n",
       "        vertical-align: top;\n",
       "    }\n",
       "\n",
       "    .dataframe thead th {\n",
       "        text-align: right;\n",
       "    }\n",
       "</style>\n",
       "<table border=\"1\" class=\"dataframe\">\n",
       "  <thead>\n",
       "    <tr style=\"text-align: right;\">\n",
       "      <th></th>\n",
       "      <th>Period</th>\n",
       "      <th>sales</th>\n",
       "      <th>suvs</th>\n",
       "      <th>insurance</th>\n",
       "      <th>logsales</th>\n",
       "    </tr>\n",
       "  </thead>\n",
       "  <tbody>\n",
       "    <tr>\n",
       "      <th>0</th>\n",
       "      <td>2004-01-01</td>\n",
       "      <td>61287</td>\n",
       "      <td>0.00</td>\n",
       "      <td>0.00</td>\n",
       "      <td>11.023323</td>\n",
       "    </tr>\n",
       "    <tr>\n",
       "      <th>1</th>\n",
       "      <td>2004-02-01</td>\n",
       "      <td>65381</td>\n",
       "      <td>-0.12</td>\n",
       "      <td>-0.01</td>\n",
       "      <td>11.087987</td>\n",
       "    </tr>\n",
       "    <tr>\n",
       "      <th>2</th>\n",
       "      <td>2004-03-01</td>\n",
       "      <td>78843</td>\n",
       "      <td>-0.05</td>\n",
       "      <td>-0.09</td>\n",
       "      <td>11.275214</td>\n",
       "    </tr>\n",
       "    <tr>\n",
       "      <th>3</th>\n",
       "      <td>2004-04-01</td>\n",
       "      <td>73422</td>\n",
       "      <td>-0.12</td>\n",
       "      <td>-0.08</td>\n",
       "      <td>11.203979</td>\n",
       "    </tr>\n",
       "    <tr>\n",
       "      <th>4</th>\n",
       "      <td>2004-05-01</td>\n",
       "      <td>77662</td>\n",
       "      <td>-0.07</td>\n",
       "      <td>-0.07</td>\n",
       "      <td>11.260121</td>\n",
       "    </tr>\n",
       "    <tr>\n",
       "      <th>...</th>\n",
       "      <td>...</td>\n",
       "      <td>...</td>\n",
       "      <td>...</td>\n",
       "      <td>...</td>\n",
       "      <td>...</td>\n",
       "    </tr>\n",
       "    <tr>\n",
       "      <th>86</th>\n",
       "      <td>2011-03-01</td>\n",
       "      <td>75982</td>\n",
       "      <td>-0.03</td>\n",
       "      <td>-0.19</td>\n",
       "      <td>11.238252</td>\n",
       "    </tr>\n",
       "    <tr>\n",
       "      <th>87</th>\n",
       "      <td>2011-04-01</td>\n",
       "      <td>70364</td>\n",
       "      <td>-0.08</td>\n",
       "      <td>-0.20</td>\n",
       "      <td>11.161437</td>\n",
       "    </tr>\n",
       "    <tr>\n",
       "      <th>88</th>\n",
       "      <td>2011-05-01</td>\n",
       "      <td>70070</td>\n",
       "      <td>-0.16</td>\n",
       "      <td>-0.22</td>\n",
       "      <td>11.157250</td>\n",
       "    </tr>\n",
       "    <tr>\n",
       "      <th>89</th>\n",
       "      <td>2011-06-01</td>\n",
       "      <td>70747</td>\n",
       "      <td>-0.12</td>\n",
       "      <td>-0.16</td>\n",
       "      <td>11.166865</td>\n",
       "    </tr>\n",
       "    <tr>\n",
       "      <th>90</th>\n",
       "      <td>2011-07-01</td>\n",
       "      <td>69910</td>\n",
       "      <td>-0.10</td>\n",
       "      <td>-0.17</td>\n",
       "      <td>11.154964</td>\n",
       "    </tr>\n",
       "  </tbody>\n",
       "</table>\n",
       "<p>91 rows × 5 columns</p>\n",
       "</div>"
      ],
      "text/plain": [
       "       Period  sales  suvs  insurance   logsales\n",
       "0  2004-01-01  61287  0.00       0.00  11.023323\n",
       "1  2004-02-01  65381 -0.12      -0.01  11.087987\n",
       "2  2004-03-01  78843 -0.05      -0.09  11.275214\n",
       "3  2004-04-01  73422 -0.12      -0.08  11.203979\n",
       "4  2004-05-01  77662 -0.07      -0.07  11.260121\n",
       "..        ...    ...   ...        ...        ...\n",
       "86 2011-03-01  75982 -0.03      -0.19  11.238252\n",
       "87 2011-04-01  70364 -0.08      -0.20  11.161437\n",
       "88 2011-05-01  70070 -0.16      -0.22  11.157250\n",
       "89 2011-06-01  70747 -0.12      -0.16  11.166865\n",
       "90 2011-07-01  69910 -0.10      -0.17  11.154964\n",
       "\n",
       "[91 rows x 5 columns]"
      ]
     },
     "execution_count": 4,
     "metadata": {},
     "output_type": "execute_result"
    }
   ],
   "source": [
    "autos[\"logsales\"] = np.log(autos[\"sales\"])\n",
    "autos"
   ]
  },
  {
   "cell_type": "markdown",
   "metadata": {},
   "source": [
    "## 2 - In-sample check"
   ]
  },
  {
   "cell_type": "markdown",
   "metadata": {},
   "source": [
    "We first compare our in-sample regression results with the paper tables."
   ]
  },
  {
   "cell_type": "markdown",
   "metadata": {},
   "source": [
    "### Logistic regression for baseline AR-1 model"
   ]
  },
  {
   "cell_type": "code",
   "execution_count": 5,
   "metadata": {
    "ExecuteTime": {
     "end_time": "2020-10-27T11:39:23.594948Z",
     "start_time": "2020-10-27T11:39:22.920270Z"
    }
   },
   "outputs": [
    {
     "name": "stdout",
     "output_type": "stream",
     "text": [
      "                            AutoReg Model Results                             \n",
      "==============================================================================\n",
      "Dep. Variable:               logsales   No. Observations:                   91\n",
      "Model:             Restr. AutoReg(12)   Log Likelihood                  89.115\n",
      "Method:               Conditional MLE   S.D. of innovations              0.078\n",
      "Date:                Fri, 18 Dec 2020   AIC                             -4.993\n",
      "Time:                        14:57:06   BIC                             -4.873\n",
      "Sample:                            12   HQIC                            -4.945\n",
      "                                   91                                         \n",
      "================================================================================\n",
      "                   coef    std err          z      P>|z|      [0.025      0.975]\n",
      "--------------------------------------------------------------------------------\n",
      "intercept        0.6727      0.749      0.898      0.369      -0.795       2.141\n",
      "logsales.L1      0.6435      0.072      8.948      0.000       0.503       0.784\n",
      "logsales.L12     0.2957      0.071      4.139      0.000       0.156       0.436\n",
      "                                    Roots                                     \n",
      "==============================================================================\n",
      "                   Real          Imaginary           Modulus         Frequency\n",
      "------------------------------------------------------------------------------\n",
      "AR.1             1.0136           -0.0000j            1.0136           -0.0000\n",
      "AR.2             0.9322           -0.4728j            1.0452           -0.0747\n",
      "AR.3             0.9322           +0.4728j            1.0452            0.0747\n",
      "AR.4             0.6048           -0.9087j            1.0915           -0.1565\n",
      "AR.5             0.6048           +0.9087j            1.0915            0.1565\n",
      "AR.6             0.0603           -1.1224j            1.1240           -0.2415\n",
      "AR.7             0.0603           +1.1224j            1.1240            0.2415\n",
      "AR.8            -0.5346           -1.0120j            1.1445           -0.3273\n",
      "AR.9            -0.5346           +1.0120j            1.1445            0.3273\n",
      "AR.10           -1.1595           -0.0000j            1.1595           -0.5000\n",
      "AR.11           -0.9897           -0.5971j            1.1559           -0.4136\n",
      "AR.12           -0.9897           +0.5971j            1.1559            0.4136\n",
      "------------------------------------------------------------------------------\n"
     ]
    }
   ],
   "source": [
    "res_base = AutoReg(autos['logsales'], [1, 12]).fit()\n",
    "print(res_base.summary())"
   ]
  },
  {
   "cell_type": "markdown",
   "metadata": {
    "ExecuteTime": {
     "end_time": "2020-10-27T10:14:30.524024Z",
     "start_time": "2020-10-27T10:14:30.516166Z"
    }
   },
   "source": [
    "### Adding Trends"
   ]
  },
  {
   "cell_type": "code",
   "execution_count": 6,
   "metadata": {
    "ExecuteTime": {
     "end_time": "2020-10-27T11:43:04.252978Z",
     "start_time": "2020-10-27T11:43:04.223078Z"
    }
   },
   "outputs": [
    {
     "name": "stdout",
     "output_type": "stream",
     "text": [
      "                             AutoReg Model Results                              \n",
      "================================================================================\n",
      "Dep. Variable:                 logsales   No. Observations:                   91\n",
      "Model:             Restr. AutoReg-X(12)   Log Likelihood                 106.312\n",
      "Method:                 Conditional MLE   S.D. of innovations              0.063\n",
      "Date:                  Fri, 18 Dec 2020   AIC                             -5.377\n",
      "Time:                          14:57:06   BIC                             -5.197\n",
      "Sample:                              12   HQIC                            -5.305\n",
      "                                     91                                         \n",
      "================================================================================\n",
      "                   coef    std err          z      P>|z|      [0.025      0.975]\n",
      "--------------------------------------------------------------------------------\n",
      "intercept       -0.4580      0.759     -0.603      0.546      -1.946       1.030\n",
      "logsales.L1      0.6195      0.061     10.131      0.000       0.500       0.739\n",
      "logsales.L12     0.4287      0.063      6.777      0.000       0.305       0.553\n",
      "suvs             1.0572      0.161      6.546      0.000       0.741       1.374\n",
      "insurance       -0.5297      0.147     -3.599      0.000      -0.818      -0.241\n",
      "                                    Roots                                     \n",
      "==============================================================================\n",
      "                   Real          Imaginary           Modulus         Frequency\n",
      "------------------------------------------------------------------------------\n",
      "AR.1             0.9913           -0.0000j            0.9913           -0.0000\n",
      "AR.2             0.9045           -0.4654j            1.0172           -0.0756\n",
      "AR.3             0.9045           +0.4654j            1.0172            0.0756\n",
      "AR.4             0.5820           -0.8833j            1.0578           -0.1573\n",
      "AR.5             0.5820           +0.8833j            1.0578            0.1573\n",
      "AR.6             0.0551           -1.0864j            1.0878           -0.2419\n",
      "AR.7             0.0551           +1.0864j            1.0878            0.2419\n",
      "AR.8            -0.5189           -0.9780j            1.1071           -0.3276\n",
      "AR.9            -0.5189           +0.9780j            1.1071            0.3276\n",
      "AR.10           -1.1214           -0.0000j            1.1214           -0.5000\n",
      "AR.11           -0.9577           -0.5766j            1.1179           -0.4137\n",
      "AR.12           -0.9577           +0.5766j            1.1179            0.4137\n",
      "------------------------------------------------------------------------------\n"
     ]
    }
   ],
   "source": [
    "res_trends = AutoReg(autos['logsales'], [1, 12], exog=pd.concat([autos['suvs'], autos['insurance']], axis=1)).fit()\n",
    "print(res_trends.summary())"
   ]
  },
  {
   "cell_type": "markdown",
   "metadata": {},
   "source": [
    "Amazing we got exactly the same results!"
   ]
  },
  {
   "cell_type": "markdown",
   "metadata": {},
   "source": [
    "## 3 - Out-of-sample forecasting"
   ]
  },
  {
   "cell_type": "markdown",
   "metadata": {},
   "source": [
    "Now that we are sure that we use the right regression model, we can start the forecast."
   ]
  },
  {
   "cell_type": "markdown",
   "metadata": {},
   "source": [
    "My understanding of the paper is that they use a rolling window of size k until t-1  to estimate the model and then predict yt using yt-1 and yt-12."
   ]
  },
  {
   "cell_type": "markdown",
   "metadata": {},
   "source": [
    "The paper uses k=17. However, I will use k=24 as in my implementation, predict() only works for k>=2*12. Futhermore, adding 7 periods to the window shouldn't change much the results."
   ]
  },
  {
   "cell_type": "code",
   "execution_count": 7,
   "metadata": {
    "ExecuteTime": {
     "end_time": "2020-10-27T11:39:20.714566Z",
     "start_time": "2020-10-27T11:39:20.710087Z"
    }
   },
   "outputs": [],
   "source": [
    "k = 24"
   ]
  },
  {
   "cell_type": "markdown",
   "metadata": {},
   "source": [
    "### Baseline model"
   ]
  },
  {
   "cell_type": "code",
   "execution_count": 8,
   "metadata": {},
   "outputs": [],
   "source": [
    "endog = autos['logsales']\n",
    "\n",
    "basedf = pd.DataFrame()\n",
    "for i in range(len(autos)-k):\n",
    "    r = i+k # end of the window\n",
    "    estimates = AutoReg(endog[i:r], [1, 12]).fit() # estimate the model using the data for periods k through t-1\n",
    "    pred = estimates.predict(start=k, end=k) # forecast yt using yt-1 and yt-12\n",
    "    basedf = basedf.append(pd.DataFrame(pred, columns=['logsales'])) # add the prediction yt to the datframe\n",
    "\n",
    "# add the corresponding dates to the dataframe to be able later to select the recession period and to plot it\n",
    "basedf['Period'] = autos['Period'] "
   ]
  },
  {
   "cell_type": "markdown",
   "metadata": {},
   "source": [
    "### Trends model"
   ]
  },
  {
   "cell_type": "markdown",
   "metadata": {},
   "source": [
    "Now, we add the contemporaneous data of Google Trends as predictors:"
   ]
  },
  {
   "cell_type": "code",
   "execution_count": 9,
   "metadata": {},
   "outputs": [],
   "source": [
    "exog = pd.concat([autos['suvs'], autos['insurance']], axis=1)\n",
    "\n",
    "#same as for the baseline model (but with exog data)\n",
    "trendsdf = pd.DataFrame()\n",
    "for i in range(len(autos)-k):\n",
    "    r = i+k\n",
    "    estimates = AutoReg(endog[i:r], [1, 12], exog=exog[i:r]).fit()\n",
    "    pred = estimates.predict(start=k, end=k, exog_oos=exog[r:r+1])\n",
    "    trendsdf = trendsdf.append(pd.DataFrame(pred, columns=['logsales']))\n",
    "\n",
    "trendsdf['Period'] = autos['Period']"
   ]
  },
  {
   "cell_type": "markdown",
   "metadata": {},
   "source": [
    "## 4 - MAE (mean absolute error)"
   ]
  },
  {
   "cell_type": "markdown",
   "metadata": {},
   "source": [
    "We cut the autos dataframe to be able to compare it with our predictions which start on January 2006:"
   ]
  },
  {
   "cell_type": "code",
   "execution_count": 10,
   "metadata": {},
   "outputs": [],
   "source": [
    "autos_reduced = autos[k:]"
   ]
  },
  {
   "cell_type": "markdown",
   "metadata": {},
   "source": [
    "The paper values are written in comment for comparison"
   ]
  },
  {
   "cell_type": "code",
   "execution_count": 11,
   "metadata": {
    "ExecuteTime": {
     "end_time": "2020-10-27T11:03:25.153036Z",
     "start_time": "2020-10-27T11:03:24.647Z"
    }
   },
   "outputs": [
    {
     "data": {
      "text/plain": [
       "0.0647494306398062"
      ]
     },
     "execution_count": 11,
     "metadata": {},
     "output_type": "execute_result"
    }
   ],
   "source": [
    "baseMAE = meanabs(basedf['logsales'], autos_reduced['logsales']) #6.34\n",
    "baseMAE"
   ]
  },
  {
   "cell_type": "code",
   "execution_count": 12,
   "metadata": {
    "ExecuteTime": {
     "end_time": "2020-10-27T11:03:25.156594Z",
     "start_time": "2020-10-27T11:03:24.654Z"
    }
   },
   "outputs": [
    {
     "data": {
      "text/plain": [
       "0.05341705402238256"
      ]
     },
     "execution_count": 12,
     "metadata": {},
     "output_type": "execute_result"
    }
   ],
   "source": [
    "trendsMAE = meanabs(trendsdf['logsales'], autos_reduced['logsales']) #5.66\n",
    "trendsMAE"
   ]
  },
  {
   "cell_type": "markdown",
   "metadata": {},
   "source": [
    "### Overall improvement"
   ]
  },
  {
   "cell_type": "code",
   "execution_count": 13,
   "metadata": {
    "ExecuteTime": {
     "end_time": "2020-10-27T11:03:25.159822Z",
     "start_time": "2020-10-27T11:03:24.656Z"
    }
   },
   "outputs": [
    {
     "data": {
      "text/plain": [
       "17.50189384747548"
      ]
     },
     "execution_count": 13,
     "metadata": {},
     "output_type": "execute_result"
    }
   ],
   "source": [
    "overall_improvement = (baseMAE-trendsMAE)/baseMAE*100 #10.5\n",
    "overall_improvement"
   ]
  },
  {
   "cell_type": "markdown",
   "metadata": {
    "ExecuteTime": {
     "end_time": "2020-10-27T13:29:51.971837Z",
     "start_time": "2020-10-27T13:29:51.966096Z"
    }
   },
   "source": [
    "Please note that I'm not using exaclty the same method than the one of the paper to compute the improvement. Indeed, we would get 12% instead of 10.5% with my method on the paper MAE values."
   ]
  },
  {
   "cell_type": "markdown",
   "metadata": {},
   "source": [
    "### Focusing on the recession (December 2007 through June 2009):"
   ]
  },
  {
   "cell_type": "markdown",
   "metadata": {},
   "source": [
    "We only keep the recession period in the dataframes:"
   ]
  },
  {
   "cell_type": "code",
   "execution_count": 14,
   "metadata": {
    "ExecuteTime": {
     "end_time": "2020-10-27T11:03:25.166375Z",
     "start_time": "2020-10-27T11:03:24.665Z"
    }
   },
   "outputs": [],
   "source": [
    "autos_recession = autos[(autos.Period >= datetime(2007,1,1)) & (autos.Period <= datetime(2009,1,1))]\n",
    "base_recession = basedf[(basedf.Period >= datetime(2007,1,1)) & (basedf.Period <= datetime(2009,1,1))]\n",
    "trends_recession = trendsdf[(trendsdf.Period >= datetime(2007,1,1)) & (trendsdf.Period <= datetime(2009,1,1))]"
   ]
  },
  {
   "cell_type": "markdown",
   "metadata": {},
   "source": [
    "Now we can compute the MAE over this period:"
   ]
  },
  {
   "cell_type": "code",
   "execution_count": 15,
   "metadata": {
    "ExecuteTime": {
     "end_time": "2020-10-27T11:03:25.169550Z",
     "start_time": "2020-10-27T11:03:24.670Z"
    }
   },
   "outputs": [
    {
     "data": {
      "text/plain": [
       "0.05902809272803026"
      ]
     },
     "execution_count": 15,
     "metadata": {},
     "output_type": "execute_result"
    }
   ],
   "source": [
    "baseMAE_recession = meanabs(base_recession['logsales'], autos_recession['logsales']) #6.96\n",
    "baseMAE_recession"
   ]
  },
  {
   "cell_type": "code",
   "execution_count": 16,
   "metadata": {
    "ExecuteTime": {
     "end_time": "2020-10-27T11:03:25.173720Z",
     "start_time": "2020-10-27T11:03:24.675Z"
    }
   },
   "outputs": [
    {
     "data": {
      "text/plain": [
       "0.04464111290070079"
      ]
     },
     "execution_count": 16,
     "metadata": {},
     "output_type": "execute_result"
    }
   ],
   "source": [
    "trendsMAE_recession = meanabs(trends_recession['logsales'], autos_recession['logsales']) #8.86\n",
    "trendsMAE_recession"
   ]
  },
  {
   "cell_type": "code",
   "execution_count": 17,
   "metadata": {
    "ExecuteTime": {
     "end_time": "2020-10-27T11:03:25.177595Z",
     "start_time": "2020-10-27T11:03:24.678Z"
    }
   },
   "outputs": [
    {
     "data": {
      "text/plain": [
       "24.37310636753409"
      ]
     },
     "execution_count": 17,
     "metadata": {},
     "output_type": "execute_result"
    }
   ],
   "source": [
    "recession_improvement = (baseMAE_recession-trendsMAE_recession)/baseMAE_recession*100 #21.5\n",
    "recession_improvement"
   ]
  },
  {
   "cell_type": "markdown",
   "metadata": {},
   "source": [
    "## 5 - Replicated figure"
   ]
  },
  {
   "cell_type": "code",
   "execution_count": 18,
   "metadata": {
    "ExecuteTime": {
     "end_time": "2020-10-27T13:31:22.435638Z",
     "start_time": "2020-10-27T13:31:22.133258Z"
    }
   },
   "outputs": [
    {
     "data": {
      "image/png": "[encoded data removed]",
      "text/plain": [
       "<Figure size 432x288 with 1 Axes>"
      ]
     },
     "metadata": {
      "needs_background": "light"
     },
     "output_type": "display_data"
    }
   ],
   "source": [
    "plt.plot(autos_reduced['Period'], autos_reduced['logsales'], label='Actual', color='black')\n",
    "plt.plot(basedf['Period'], basedf['logsales'], label='Base', linestyle='dashed', color='black')\n",
    "plt.plot(trendsdf['Period'], trendsdf['logsales'], label='Trends', color='grey')\n",
    "\n",
    "plt.title('Motor Vehicles and Parts')\n",
    "plt.xlabel('Index')\n",
    "plt.ylabel('log(mvp)')\n",
    "plt.legend(loc='upper right')\n",
    "\n",
    "# add text\n",
    "text = 'MAE improvement \\n Overall = {:.1f}% \\n During recession = {:.1f}%'.format(overall_improvement, recession_improvement)\n",
    "props = dict(boxstyle='square', facecolor='none', edgecolor='black')\n",
    "\n",
    "plt.text(datetime(2005,11,1), 10.67, text, bbox=props)\n",
    "plt.show()"
   ]
  },
  {
   "cell_type": "markdown",
   "metadata": {},
   "source": [
    "## 6 - Conclusions"
   ]
  },
  {
   "cell_type": "markdown",
   "metadata": {},
   "source": [
    "During this replication, I tried to stay as close as possible to the paper.\n",
    "\n",
    "First, I got exactly the same AR-1 models on the whole dataset.\n",
    "Then, for the out-of-sample forecasting, I got slighlty better predictions as I took a slightly bigger k for the rolling window. Overall the trends (no pun intented ;)) in the graph look the same and we also find a bigger improvement with the trends model during the recession period."
   ]
  },
  {
   "cell_type": "markdown",
   "metadata": {},
   "source": [
    "PS: it's worth noting that the authors of the paper used R to build their models and that the used library might higly differ from the statsmodel one provided in python."
   ]
  },
  {
   "cell_type": "markdown",
   "metadata": {},
   "source": [
    "# Table 1 replication"
   ]
  },
  {
   "cell_type": "markdown",
   "metadata": {},
   "source": [
    "## 1 - Data wrangling"
   ]
  },
  {
   "cell_type": "markdown",
   "metadata": {},
   "source": [
    "### Loading the US Department of Labor data & the query volume of related search terms from Google Trends"
   ]
  },
  {
   "cell_type": "code",
   "execution_count": 75,
   "metadata": {},
   "outputs": [
    {
     "name": "stdout",
     "output_type": "stream",
     "text": [
      "         Index  claims.sa  claims.nsa       Jobs  Welfare...Unemployment\n",
      "0   2004-01-10     354000      677897   6.066862               -7.574152\n",
      "1   2004-01-17     362000      490763  -3.558773              -25.237886\n",
      "2   2004-01-24     353000      382262  -6.184409              -17.401619\n",
      "3   2004-01-31     376000      406298  -7.935044              -18.815352\n",
      "4   2004-02-07     380000      433234 -13.310680              -24.104085\n",
      "..         ...        ...         ...        ...                     ...\n",
      "386 2011-06-04     430000      366816  -8.625037               20.205657\n",
      "387 2011-06-11     420000      400608  -1.740796               22.864625\n",
      "388 2011-06-18     429000      394286  -1.981555               21.773594\n",
      "389 2011-06-25     432000      406633  -0.978706               13.977618\n",
      "390 2011-07-02     427000      425640  -0.350857               17.056643\n",
      "\n",
      "[391 rows x 5 columns]\n"
     ]
    }
   ],
   "source": [
    "claims = pd.read_csv(DATA_FOLDER+\"merged_iclaims.csv\")\n",
    "claims.Index = pd.to_datetime(claims.Index)\n",
    "print(claims)"
   ]
  },
  {
   "cell_type": "markdown",
   "metadata": {},
   "source": [
    "As mentionned in the paper, we will work with the seasonally adjusted data and consider the log of the claims:"
   ]
  },
  {
   "cell_type": "code",
   "execution_count": 83,
   "metadata": {},
   "outputs": [],
   "source": [
    "claims[\"log\"] = np.log(claims[\"claims.sa\"])"
   ]
  },
  {
   "cell_type": "code",
   "execution_count": 105,
   "metadata": {},
   "outputs": [
    {
     "data": {
      "text/html": [
       "<div>\n",
       "<style scoped>\n",
       "    .dataframe tbody tr th:only-of-type {\n",
       "        vertical-align: middle;\n",
       "    }\n",
       "\n",
       "    .dataframe tbody tr th {\n",
       "        vertical-align: top;\n",
       "    }\n",
       "\n",
       "    .dataframe thead th {\n",
       "        text-align: right;\n",
       "    }\n",
       "</style>\n",
       "<table border=\"1\" class=\"dataframe\">\n",
       "  <thead>\n",
       "    <tr style=\"text-align: right;\">\n",
       "      <th></th>\n",
       "      <th>Index</th>\n",
       "      <th>claims.sa</th>\n",
       "      <th>claims.nsa</th>\n",
       "      <th>Jobs</th>\n",
       "      <th>Welfare...Unemployment</th>\n",
       "      <th>log</th>\n",
       "    </tr>\n",
       "  </thead>\n",
       "  <tbody>\n",
       "    <tr>\n",
       "      <th>0</th>\n",
       "      <td>2004-01-10</td>\n",
       "      <td>354000</td>\n",
       "      <td>677897</td>\n",
       "      <td>6.066862</td>\n",
       "      <td>-7.574152</td>\n",
       "      <td>12.777052</td>\n",
       "    </tr>\n",
       "    <tr>\n",
       "      <th>1</th>\n",
       "      <td>2004-01-17</td>\n",
       "      <td>362000</td>\n",
       "      <td>490763</td>\n",
       "      <td>-3.558773</td>\n",
       "      <td>-25.237886</td>\n",
       "      <td>12.799399</td>\n",
       "    </tr>\n",
       "    <tr>\n",
       "      <th>2</th>\n",
       "      <td>2004-01-24</td>\n",
       "      <td>353000</td>\n",
       "      <td>382262</td>\n",
       "      <td>-6.184409</td>\n",
       "      <td>-17.401619</td>\n",
       "      <td>12.774223</td>\n",
       "    </tr>\n",
       "    <tr>\n",
       "      <th>3</th>\n",
       "      <td>2004-01-31</td>\n",
       "      <td>376000</td>\n",
       "      <td>406298</td>\n",
       "      <td>-7.935044</td>\n",
       "      <td>-18.815352</td>\n",
       "      <td>12.837344</td>\n",
       "    </tr>\n",
       "    <tr>\n",
       "      <th>4</th>\n",
       "      <td>2004-02-07</td>\n",
       "      <td>380000</td>\n",
       "      <td>433234</td>\n",
       "      <td>-13.310680</td>\n",
       "      <td>-24.104085</td>\n",
       "      <td>12.847927</td>\n",
       "    </tr>\n",
       "    <tr>\n",
       "      <th>...</th>\n",
       "      <td>...</td>\n",
       "      <td>...</td>\n",
       "      <td>...</td>\n",
       "      <td>...</td>\n",
       "      <td>...</td>\n",
       "      <td>...</td>\n",
       "    </tr>\n",
       "    <tr>\n",
       "      <th>386</th>\n",
       "      <td>2011-06-04</td>\n",
       "      <td>430000</td>\n",
       "      <td>366816</td>\n",
       "      <td>-8.625037</td>\n",
       "      <td>20.205657</td>\n",
       "      <td>12.971540</td>\n",
       "    </tr>\n",
       "    <tr>\n",
       "      <th>387</th>\n",
       "      <td>2011-06-11</td>\n",
       "      <td>420000</td>\n",
       "      <td>400608</td>\n",
       "      <td>-1.740796</td>\n",
       "      <td>22.864625</td>\n",
       "      <td>12.948010</td>\n",
       "    </tr>\n",
       "    <tr>\n",
       "      <th>388</th>\n",
       "      <td>2011-06-18</td>\n",
       "      <td>429000</td>\n",
       "      <td>394286</td>\n",
       "      <td>-1.981555</td>\n",
       "      <td>21.773594</td>\n",
       "      <td>12.969212</td>\n",
       "    </tr>\n",
       "    <tr>\n",
       "      <th>389</th>\n",
       "      <td>2011-06-25</td>\n",
       "      <td>432000</td>\n",
       "      <td>406633</td>\n",
       "      <td>-0.978706</td>\n",
       "      <td>13.977618</td>\n",
       "      <td>12.976181</td>\n",
       "    </tr>\n",
       "    <tr>\n",
       "      <th>390</th>\n",
       "      <td>2011-07-02</td>\n",
       "      <td>427000</td>\n",
       "      <td>425640</td>\n",
       "      <td>-0.350857</td>\n",
       "      <td>17.056643</td>\n",
       "      <td>12.964539</td>\n",
       "    </tr>\n",
       "  </tbody>\n",
       "</table>\n",
       "<p>391 rows × 6 columns</p>\n",
       "</div>"
      ],
      "text/plain": [
       "         Index  claims.sa  claims.nsa       Jobs  Welfare...Unemployment  \\\n",
       "0   2004-01-10     354000      677897   6.066862               -7.574152   \n",
       "1   2004-01-17     362000      490763  -3.558773              -25.237886   \n",
       "2   2004-01-24     353000      382262  -6.184409              -17.401619   \n",
       "3   2004-01-31     376000      406298  -7.935044              -18.815352   \n",
       "4   2004-02-07     380000      433234 -13.310680              -24.104085   \n",
       "..         ...        ...         ...        ...                     ...   \n",
       "386 2011-06-04     430000      366816  -8.625037               20.205657   \n",
       "387 2011-06-11     420000      400608  -1.740796               22.864625   \n",
       "388 2011-06-18     429000      394286  -1.981555               21.773594   \n",
       "389 2011-06-25     432000      406633  -0.978706               13.977618   \n",
       "390 2011-07-02     427000      425640  -0.350857               17.056643   \n",
       "\n",
       "           log  \n",
       "0    12.777052  \n",
       "1    12.799399  \n",
       "2    12.774223  \n",
       "3    12.837344  \n",
       "4    12.847927  \n",
       "..         ...  \n",
       "386  12.971540  \n",
       "387  12.948010  \n",
       "388  12.969212  \n",
       "389  12.976181  \n",
       "390  12.964539  \n",
       "\n",
       "[391 rows x 6 columns]"
      ]
     },
     "execution_count": 105,
     "metadata": {},
     "output_type": "execute_result"
    }
   ],
   "source": [
    "claims"
   ]
  },
  {
   "cell_type": "markdown",
   "metadata": {},
   "source": [
    "### Removing the seasonal component (Trends)"
   ]
  },
  {
   "cell_type": "markdown",
   "metadata": {},
   "source": [
    "The author specifies using stl in R to remove the seasonal component of the Trends data. This means that he uses the Loess method. However, it's still needed to define the period of the seasonality that should be removed. As the data is provided for each week, the seasonality could be either weekly, quaterly or annually. To do so, we plot the a subset of the Trend data:"
   ]
  },
  {
   "cell_type": "code",
   "execution_count": 106,
   "metadata": {},
   "outputs": [],
   "source": [
    "df_reduced = claims[:30]"
   ]
  },
  {
   "cell_type": "code",
   "execution_count": 107,
   "metadata": {},
   "outputs": [
    {
     "data": {
      "image/png": "[encoded data removed]",
      "text/plain": [
       "<Figure size 432x288 with 1 Axes>"
      ]
     },
     "metadata": {
      "needs_background": "light"
     },
     "output_type": "display_data"
    }
   ],
   "source": [
    "plt.plot(df_reduced['Index'], df_reduced['Jobs'], label='Jobs')\n",
    "plt.plot(df_reduced['Index'], df_reduced['Welfare...Unemployment'], label='Welfare...Unemployment')\n",
    "plt.show()"
   ]
  },
  {
   "cell_type": "markdown",
   "metadata": {},
   "source": [
    "Unfortunately, we cannot clearly see a monthly, quarterly or annual seasonality. Thus, one should use another method.\n",
    "\n",
    "Removing the same seasonality as the one that as been removed by the US Department of Labor might be a good idea. After some research, we can find that they use the X-13ARIMA-SEATS for monthly data. However, to use statsmodels.tsa.x13.x13_arima_analysis, one should download the software. Thus, we will simply remove a monthly seasonal component (period=4);"
   ]
  },
  {
   "cell_type": "code",
   "execution_count": 108,
   "metadata": {},
   "outputs": [],
   "source": [
    "res_jobs = STL(claims['Jobs'], period=4).fit()\n",
    "res_unemployement = STL(claims['Welfare...Unemployment'], period=4).fit()"
   ]
  },
  {
   "cell_type": "markdown",
   "metadata": {},
   "source": [
    "Now that the seasonal component has been extracted, we can remove it from the data. However, we are not sure wether the model is additive(Y[t] = T[t] + S[t] + e[t]) or multiplicative (Y[t] = T[t] * S[t] * e[t]). As I doubt that the residual would bring anything meaningful to the model's performance, I decide to solve the question by only keeping the Trend component:"
   ]
  },
  {
   "cell_type": "code",
   "execution_count": 155,
   "metadata": {},
   "outputs": [],
   "source": [
    "exog = pd.concat([res_jobs.trend, res_unemployement.trend], axis=1)"
   ]
  },
  {
   "cell_type": "markdown",
   "metadata": {},
   "source": [
    "## 2 - Model fitting"
   ]
  },
  {
   "cell_type": "markdown",
   "metadata": {},
   "source": [
    "The baseline regression being a simple AR-1 model on the log of initial claims, we first check that we get the same parameters for the model.\n",
    "We compare two ways of computing the AR-1: AutoReg and SARIMAX."
   ]
  },
  {
   "cell_type": "code",
   "execution_count": 171,
   "metadata": {},
   "outputs": [],
   "source": [
    "endog = claims['log']"
   ]
  },
  {
   "cell_type": "markdown",
   "metadata": {},
   "source": [
    "### Baseline"
   ]
  },
  {
   "cell_type": "code",
   "execution_count": 137,
   "metadata": {},
   "outputs": [
    {
     "name": "stdout",
     "output_type": "stream",
     "text": [
      "                            AutoReg Model Results                             \n",
      "==============================================================================\n",
      "Dep. Variable:                    log   No. Observations:                  391\n",
      "Model:                     AutoReg(1)   Log Likelihood                 669.170\n",
      "Method:               Conditional MLE   S.D. of innovations              0.044\n",
      "Date:                Fri, 18 Dec 2020   AIC                             -6.254\n",
      "Time:                        16:57:31   BIC                             -6.224\n",
      "Sample:                             1   HQIC                            -6.242\n",
      "                                  391                                         \n",
      "==============================================================================\n",
      "                 coef    std err          z      P>|z|      [0.025      0.975]\n",
      "------------------------------------------------------------------------------\n",
      "intercept      0.2549      0.129      1.973      0.048       0.002       0.508\n",
      "log.L1         0.9802      0.010     97.618      0.000       0.961       1.000\n",
      "                                    Roots                                    \n",
      "=============================================================================\n",
      "                  Real          Imaginary           Modulus         Frequency\n",
      "-----------------------------------------------------------------------------\n",
      "AR.1            1.0202           +0.0000j            1.0202            0.0000\n",
      "-----------------------------------------------------------------------------\n"
     ]
    }
   ],
   "source": [
    "res_base = AutoReg(endog, 1).fit()\n",
    "print(res_base.summary())"
   ]
  },
  {
   "cell_type": "code",
   "execution_count": 156,
   "metadata": {},
   "outputs": [
    {
     "name": "stdout",
     "output_type": "stream",
     "text": [
      "                               SARIMAX Results                                \n",
      "==============================================================================\n",
      "Dep. Variable:                    log   No. Observations:                  391\n",
      "Model:               SARIMAX(1, 0, 0)   Log Likelihood                 669.667\n",
      "Date:                Fri, 18 Dec 2020   AIC                          -1333.333\n",
      "Time:                        17:37:59   BIC                          -1321.427\n",
      "Sample:                             0   HQIC                         -1328.614\n",
      "                                - 391                                         \n",
      "Covariance Type:                  opg                                         \n",
      "==============================================================================\n",
      "                 coef    std err          z      P>|z|      [0.025      0.975]\n",
      "------------------------------------------------------------------------------\n",
      "intercept      0.2544      0.144      1.763      0.078      -0.028       0.537\n",
      "ar.L1          0.9802      0.011     87.300      0.000       0.958       1.002\n",
      "sigma2         0.0019   8.65e-05     21.838      0.000       0.002       0.002\n",
      "===================================================================================\n",
      "Ljung-Box (Q):                       82.49   Jarque-Bera (JB):               175.12\n",
      "Prob(Q):                              0.00   Prob(JB):                         0.00\n",
      "Heteroskedasticity (H):               0.62   Skew:                             0.34\n",
      "Prob(H) (two-sided):                  0.01   Kurtosis:                         6.21\n",
      "===================================================================================\n",
      "\n",
      "Warnings:\n",
      "[1] Covariance matrix calculated using the outer product of gradients (complex-step).\n"
     ]
    }
   ],
   "source": [
    "res_base2 = sm.tsa.SARIMAX(endog, order=(1, 0, 0), trend='c').fit()\n",
    "print(res_base2.summary())"
   ]
  },
  {
   "cell_type": "markdown",
   "metadata": {},
   "source": [
    "### Now adding Trends"
   ]
  },
  {
   "cell_type": "code",
   "execution_count": 138,
   "metadata": {},
   "outputs": [
    {
     "name": "stdout",
     "output_type": "stream",
     "text": [
      "                            AutoReg Model Results                             \n",
      "==============================================================================\n",
      "Dep. Variable:                    log   No. Observations:                  391\n",
      "Model:                   AutoReg-X(1)   Log Likelihood                 674.676\n",
      "Method:               Conditional MLE   S.D. of innovations              0.043\n",
      "Date:                Fri, 18 Dec 2020   AIC                             -6.272\n",
      "Time:                        16:57:37   BIC                             -6.221\n",
      "Sample:                             1   HQIC                            -6.252\n",
      "                                  391                                         \n",
      "==============================================================================\n",
      "                 coef    std err          z      P>|z|      [0.025      0.975]\n",
      "------------------------------------------------------------------------------\n",
      "intercept      1.1067      0.288      3.849      0.000       0.543       1.670\n",
      "log.L1         0.9142      0.022     40.909      0.000       0.870       0.958\n",
      "trend          0.0004      0.000      0.742      0.458      -0.001       0.001\n",
      "trend          0.0005      0.000      2.362      0.018    8.49e-05       0.001\n",
      "                                    Roots                                    \n",
      "=============================================================================\n",
      "                  Real          Imaginary           Modulus         Frequency\n",
      "-----------------------------------------------------------------------------\n",
      "AR.1            1.0939           +0.0000j            1.0939            0.0000\n",
      "-----------------------------------------------------------------------------\n"
     ]
    }
   ],
   "source": [
    "res_trends = AutoReg(endog, 1, exog=exog).fit()\n",
    "print(res_trends.summary())"
   ]
  },
  {
   "cell_type": "code",
   "execution_count": 157,
   "metadata": {},
   "outputs": [
    {
     "name": "stdout",
     "output_type": "stream",
     "text": [
      "                               SARIMAX Results                                \n",
      "==============================================================================\n",
      "Dep. Variable:                    log   No. Observations:                  391\n",
      "Model:               SARIMAX(1, 0, 0)   Log Likelihood                 669.036\n",
      "Date:                Fri, 18 Dec 2020   AIC                          -1328.073\n",
      "Time:                        17:38:12   BIC                          -1308.229\n",
      "Sample:                             0   HQIC                         -1320.207\n",
      "                                - 391                                         \n",
      "Covariance Type:                  opg                                         \n",
      "==============================================================================\n",
      "                 coef    std err          z      P>|z|      [0.025      0.975]\n",
      "------------------------------------------------------------------------------\n",
      "intercept      0.6872      0.227      3.023      0.002       0.242       1.133\n",
      "trend          0.0013      0.001      1.022      0.307      -0.001       0.004\n",
      "trend          0.0022      0.001      2.318      0.020       0.000       0.004\n",
      "ar.L1          0.9466      0.018     53.641      0.000       0.912       0.981\n",
      "sigma2         0.0019   9.21e-05     20.629      0.000       0.002       0.002\n",
      "===================================================================================\n",
      "Ljung-Box (Q):                       81.73   Jarque-Bera (JB):               135.94\n",
      "Prob(Q):                              0.00   Prob(JB):                         0.00\n",
      "Heteroskedasticity (H):               0.68   Skew:                             0.32\n",
      "Prob(H) (two-sided):                  0.03   Kurtosis:                         5.82\n",
      "===================================================================================\n",
      "\n",
      "Warnings:\n",
      "[1] Covariance matrix calculated using the outer product of gradients (complex-step).\n"
     ]
    }
   ],
   "source": [
    "res_trends2 = sm.tsa.SARIMAX(endog, exog=exog, order=(1, 0, 0), trend='c').fit()\n",
    "print(res_trends2.summary())"
   ]
  },
  {
   "cell_type": "markdown",
   "metadata": {},
   "source": [
    "Please note that the first trend parameter refers to \"Jobs\" while the second refers to \"Welfare...Unemployment\"."
   ]
  },
  {
   "cell_type": "markdown",
   "metadata": {},
   "source": [
    "Using Autoreg, we obtain results that are much closer to the paper for the Trends model.\n",
    "\n",
    "The parameters are exactly the same for the baseline! Regarding the model using Trends data, the parameters differ slighlty as we couldn't proceed exactly in the same way as the paper to remove the seasonality from Trends. But this is close enough!"
   ]
  },
  {
   "cell_type": "markdown",
   "metadata": {},
   "source": [
    "## 3 - Forecasting"
   ]
  },
  {
   "cell_type": "markdown",
   "metadata": {},
   "source": [
    "We can now start the one-step-ahead out-of-sample forecast!"
   ]
  },
  {
   "cell_type": "markdown",
   "metadata": {},
   "source": [
    "The minimum period k for the rolling window is 4 for the baseline model and 6 for the trends model. Trying to use a smaller window (such as one to reproduce a one-step-ahead forecast as described in the paper) leads to an error message.\n",
    "\n",
    "To be able to compare both models, one should use the same window size. Consequently k is set at 6."
   ]
  },
  {
   "cell_type": "code",
   "execution_count": 231,
   "metadata": {},
   "outputs": [],
   "source": [
    "k=6"
   ]
  },
  {
   "cell_type": "code",
   "execution_count": 232,
   "metadata": {},
   "outputs": [],
   "source": [
    "basedf = pd.DataFrame()\n",
    "for i in range(len(claims)-k):\n",
    "    r = i+k # end of the window\n",
    "    estimates = AutoReg(endog[i:r], 1).fit() # estimate the model using the data for periods k through t-1\n",
    "    pred = estimates.predict(start=k, end=k) # forecast yt using yt-1 and yt-12\n",
    "    basedf = basedf.append(pd.DataFrame(pred, columns=['log'])) # add the prediction yt to the datframe\n",
    "\n",
    "# add the corresponding dates to the dataframe to be able later to select the recession period and to plot it\n",
    "basedf['Index'] = claims['Index'] "
   ]
  },
  {
   "cell_type": "code",
   "execution_count": 234,
   "metadata": {},
   "outputs": [],
   "source": [
    "#same as for the baseline model (but with exog data)\n",
    "trendsdf = pd.DataFrame()\n",
    "for i in range(len(claims)-k):\n",
    "    r = i+k\n",
    "    estimates = AutoReg(endog[i:r], 1, exog=exog[i:r]).fit()\n",
    "    pred = estimates.predict(start=k, end=k, exog_oos=exog[r:r+1])\n",
    "    trendsdf = trendsdf.append(pd.DataFrame(pred, columns=['log']))\n",
    "\n",
    "trendsdf['Index'] = claims['Index']"
   ]
  },
  {
   "cell_type": "markdown",
   "metadata": {},
   "source": [
    "## 4 - MAE & replicated figure"
   ]
  },
  {
   "cell_type": "markdown",
   "metadata": {},
   "source": [
    "Let's compute the Mean Average Error (MAE) of both models around the turning points."
   ]
  },
  {
   "cell_type": "markdown",
   "metadata": {},
   "source": [
    "The first k rows (=week) being used to forecast the first sample, one should exclude them when computing the MAE:"
   ]
  },
  {
   "cell_type": "code",
   "execution_count": 235,
   "metadata": {},
   "outputs": [],
   "source": [
    "claims_reduced = claims[k:]"
   ]
  },
  {
   "cell_type": "markdown",
   "metadata": {},
   "source": [
    "Overall MAE results:"
   ]
  },
  {
   "cell_type": "code",
   "execution_count": 250,
   "metadata": {},
   "outputs": [
    {
     "name": "stdout",
     "output_type": "stream",
     "text": [
      "baseline = 0.0% \n",
      "with Trends data = 0.1% \n",
      "MAE improvement = -130.5% \n",
      "\n"
     ]
    }
   ],
   "source": [
    "baseMAE = meanabs(basedf['log'], claims_reduced['log'])\n",
    "trendsMAE = meanabs(trendsdf['log'], claims_reduced['log'])\n",
    "improvement = (baseMAE-trendsMAE)/baseMAE*100\n",
    "    \n",
    "print(\"baseline = {:.1f}% \\nwith Trends data = {:.1f}% \\nMAE improvement = {:.1f}% \\n\"\\\n",
    "      .format(baseMAE, trendsMAE, improvement))"
   ]
  },
  {
   "cell_type": "markdown",
   "metadata": {},
   "source": [
    "These results doesn't make sense...\n",
    "\n",
    "\n",
    "Nevertheless, below is the code necessary to compute the MAE for the different turning points:"
   ]
  },
  {
   "cell_type": "code",
   "execution_count": 238,
   "metadata": {},
   "outputs": [],
   "source": [
    "#Compute the MAEs for two models as well as the improvement from the first (base) to the second (trends) model for a given period\n",
    "def get_MAE(original, base, trends, period):\n",
    "    original_cut = original[(original.Index >= period[0]) & (original.Index <= period[1])]\n",
    "    base_cut = base[(base.Index >= period[0]) & (base.Index <= period[1])]\n",
    "    trends_cut = trends[(original.Index >= period[0]) & (trends.Index <= period[1])]\n",
    "    \n",
    "    baseMAE = meanabs(base_cut['log'], original_cut['log'])\n",
    "    trendsMAE = meanabs(trends_cut['log'], original_cut['log'])\n",
    "    improvement = (baseMAE-trendsMAE)/baseMAE*100\n",
    "    \n",
    "    print(\"baseline = {:.1f}% \\nwith Trends data = {:.1f}% \\nMAE improvement = {:.1f}% \\n\"\\\n",
    "      .format(baseMAE, trendsMAE, improvement))\n",
    "    \n",
    "    df = pd.DataFrame([period[0].strftime(\"%Y-%m-%d\"), period[1].strftime(\"%Y-%m-%d\"), baseMAE, trendsMAE, improvement],\\\n",
    "                    columns=['Start', 'End', 'MAE base', 'MAE trends', 'l-ratio'])\n",
    "    print(df)\n",
    "    return df"
   ]
  },
  {
   "cell_type": "code",
   "execution_count": 246,
   "metadata": {},
   "outputs": [],
   "source": [
    "#List of the Turning points\n",
    "periods = [[datetime(2009,3,1), datetime(2009,5,1)], [datetime(2009,12,1), datetime(2010,2,1)],\\\n",
    "          [datetime(2010,7,15), datetime(2010,7,15)], [datetime(2011,1,1), datetime(2011,5,1)]]\n",
    "\n",
    "#initialization of the table\n",
    "table = pd.DataFrame()"
   ]
  },
  {
   "cell_type": "markdown",
   "metadata": {},
   "source": [
    "Finally, the following cell displays the Table 1:"
   ]
  },
  {
   "cell_type": "code",
   "execution_count": 248,
   "metadata": {
    "collapsed": true,
    "jupyter": {
     "outputs_hidden": true
    }
   },
   "outputs": [
    {
     "name": "stdout",
     "output_type": "stream",
     "text": [
      "baseline = 0.0% \n",
      "with Trends data = 0.1% \n",
      "MAE improvement = -241.9% \n",
      "\n"
     ]
    },
    {
     "ename": "ValueError",
     "evalue": "Shape of passed values is (5, 1), indices imply (5, 5)",
     "output_type": "error",
     "traceback": [
      "\u001b[0;31m---------------------------------------------------------------------------\u001b[0m",
      "\u001b[0;31mValueError\u001b[0m                                Traceback (most recent call last)",
      "\u001b[0;32m/opt/anaconda3/lib/python3.8/site-packages/pandas/core/internals/managers.py\u001b[0m in \u001b[0;36mcreate_block_manager_from_blocks\u001b[0;34m(blocks, axes)\u001b[0m\n\u001b[1;32m   1661\u001b[0m                 blocks = [\n\u001b[0;32m-> 1662\u001b[0;31m                     \u001b[0mmake_block\u001b[0m\u001b[0;34m(\u001b[0m\u001b[0mvalues\u001b[0m\u001b[0;34m=\u001b[0m\u001b[0mblocks\u001b[0m\u001b[0;34m[\u001b[0m\u001b[0;36m0\u001b[0m\u001b[0;34m]\u001b[0m\u001b[0;34m,\u001b[0m \u001b[0mplacement\u001b[0m\u001b[0;34m=\u001b[0m\u001b[0mslice\u001b[0m\u001b[0;34m(\u001b[0m\u001b[0;36m0\u001b[0m\u001b[0;34m,\u001b[0m \u001b[0mlen\u001b[0m\u001b[0;34m(\u001b[0m\u001b[0maxes\u001b[0m\u001b[0;34m[\u001b[0m\u001b[0;36m0\u001b[0m\u001b[0;34m]\u001b[0m\u001b[0;34m)\u001b[0m\u001b[0;34m)\u001b[0m\u001b[0;34m)\u001b[0m\u001b[0;34m\u001b[0m\u001b[0;34m\u001b[0m\u001b[0m\n\u001b[0m\u001b[1;32m   1663\u001b[0m                 ]\n",
      "\u001b[0;32m/opt/anaconda3/lib/python3.8/site-packages/pandas/core/internals/blocks.py\u001b[0m in \u001b[0;36mmake_block\u001b[0;34m(values, placement, klass, ndim, dtype)\u001b[0m\n\u001b[1;32m   2713\u001b[0m \u001b[0;34m\u001b[0m\u001b[0m\n\u001b[0;32m-> 2714\u001b[0;31m     \u001b[0;32mreturn\u001b[0m \u001b[0mklass\u001b[0m\u001b[0;34m(\u001b[0m\u001b[0mvalues\u001b[0m\u001b[0;34m,\u001b[0m \u001b[0mndim\u001b[0m\u001b[0;34m=\u001b[0m\u001b[0mndim\u001b[0m\u001b[0;34m,\u001b[0m \u001b[0mplacement\u001b[0m\u001b[0;34m=\u001b[0m\u001b[0mplacement\u001b[0m\u001b[0;34m)\u001b[0m\u001b[0;34m\u001b[0m\u001b[0;34m\u001b[0m\u001b[0m\n\u001b[0m\u001b[1;32m   2715\u001b[0m \u001b[0;34m\u001b[0m\u001b[0m\n",
      "\u001b[0;32m/opt/anaconda3/lib/python3.8/site-packages/pandas/core/internals/blocks.py\u001b[0m in \u001b[0;36m__init__\u001b[0;34m(self, values, placement, ndim)\u001b[0m\n\u001b[1;32m   2369\u001b[0m \u001b[0;34m\u001b[0m\u001b[0m\n\u001b[0;32m-> 2370\u001b[0;31m         \u001b[0msuper\u001b[0m\u001b[0;34m(\u001b[0m\u001b[0;34m)\u001b[0m\u001b[0;34m.\u001b[0m\u001b[0m__init__\u001b[0m\u001b[0;34m(\u001b[0m\u001b[0mvalues\u001b[0m\u001b[0;34m,\u001b[0m \u001b[0mndim\u001b[0m\u001b[0;34m=\u001b[0m\u001b[0mndim\u001b[0m\u001b[0;34m,\u001b[0m \u001b[0mplacement\u001b[0m\u001b[0;34m=\u001b[0m\u001b[0mplacement\u001b[0m\u001b[0;34m)\u001b[0m\u001b[0;34m\u001b[0m\u001b[0;34m\u001b[0m\u001b[0m\n\u001b[0m\u001b[1;32m   2371\u001b[0m \u001b[0;34m\u001b[0m\u001b[0m\n",
      "\u001b[0;32m/opt/anaconda3/lib/python3.8/site-packages/pandas/core/internals/blocks.py\u001b[0m in \u001b[0;36m__init__\u001b[0;34m(self, values, placement, ndim)\u001b[0m\n\u001b[1;32m    128\u001b[0m         \u001b[0;32mif\u001b[0m \u001b[0mself\u001b[0m\u001b[0;34m.\u001b[0m\u001b[0m_validate_ndim\u001b[0m \u001b[0;32mand\u001b[0m \u001b[0mself\u001b[0m\u001b[0;34m.\u001b[0m\u001b[0mndim\u001b[0m \u001b[0;32mand\u001b[0m \u001b[0mlen\u001b[0m\u001b[0;34m(\u001b[0m\u001b[0mself\u001b[0m\u001b[0;34m.\u001b[0m\u001b[0mmgr_locs\u001b[0m\u001b[0;34m)\u001b[0m \u001b[0;34m!=\u001b[0m \u001b[0mlen\u001b[0m\u001b[0;34m(\u001b[0m\u001b[0mself\u001b[0m\u001b[0;34m.\u001b[0m\u001b[0mvalues\u001b[0m\u001b[0;34m)\u001b[0m\u001b[0;34m:\u001b[0m\u001b[0;34m\u001b[0m\u001b[0;34m\u001b[0m\u001b[0m\n\u001b[0;32m--> 129\u001b[0;31m             raise ValueError(\n\u001b[0m\u001b[1;32m    130\u001b[0m                 \u001b[0;34mf\"Wrong number of items passed {len(self.values)}, \"\u001b[0m\u001b[0;34m\u001b[0m\u001b[0;34m\u001b[0m\u001b[0m\n",
      "\u001b[0;31mValueError\u001b[0m: Wrong number of items passed 1, placement implies 5",
      "\nDuring handling of the above exception, another exception occurred:\n",
      "\u001b[0;31mValueError\u001b[0m                                Traceback (most recent call last)",
      "\u001b[0;32m<ipython-input-248-4f3f0d1ead7b>\u001b[0m in \u001b[0;36m<module>\u001b[0;34m\u001b[0m\n\u001b[1;32m      1\u001b[0m \u001b[0;32mfor\u001b[0m \u001b[0mperiod\u001b[0m \u001b[0;32min\u001b[0m \u001b[0mperiods\u001b[0m\u001b[0;34m:\u001b[0m\u001b[0;34m\u001b[0m\u001b[0;34m\u001b[0m\u001b[0m\n\u001b[0;32m----> 2\u001b[0;31m     \u001b[0mtable\u001b[0m\u001b[0;34m.\u001b[0m\u001b[0mappend\u001b[0m\u001b[0;34m(\u001b[0m\u001b[0mget_MAE\u001b[0m\u001b[0;34m(\u001b[0m\u001b[0mdf_reduced\u001b[0m\u001b[0;34m,\u001b[0m \u001b[0mbasedf\u001b[0m\u001b[0;34m,\u001b[0m \u001b[0mtrendsdf\u001b[0m\u001b[0;34m,\u001b[0m \u001b[0mperiod\u001b[0m\u001b[0;34m)\u001b[0m\u001b[0;34m,\u001b[0m \u001b[0mignore_index\u001b[0m\u001b[0;34m=\u001b[0m\u001b[0;32mTrue\u001b[0m\u001b[0;34m)\u001b[0m\u001b[0;34m\u001b[0m\u001b[0;34m\u001b[0m\u001b[0m\n\u001b[0m\u001b[1;32m      3\u001b[0m \u001b[0;34m\u001b[0m\u001b[0m\n\u001b[1;32m      4\u001b[0m \u001b[0mprint\u001b[0m\u001b[0;34m(\u001b[0m\u001b[0;34m\"Behavior of MAE around Turning Points\"\u001b[0m\u001b[0;34m)\u001b[0m\u001b[0;34m\u001b[0m\u001b[0;34m\u001b[0m\u001b[0m\n\u001b[1;32m      5\u001b[0m \u001b[0mtable\u001b[0m\u001b[0;34m\u001b[0m\u001b[0;34m\u001b[0m\u001b[0m\n",
      "\u001b[0;32m<ipython-input-238-8bf138ccdd5e>\u001b[0m in \u001b[0;36mget_MAE\u001b[0;34m(original, base, trends, period)\u001b[0m\n\u001b[1;32m     12\u001b[0m       .format(baseMAE, trendsMAE, improvement))\n\u001b[1;32m     13\u001b[0m \u001b[0;34m\u001b[0m\u001b[0m\n\u001b[0;32m---> 14\u001b[0;31m     df = pd.DataFrame([period[0].strftime(\"%Y-%m-%d\"), period[1].strftime(\"%Y-%m-%d\"), baseMAE, trendsMAE, improvement],\\\n\u001b[0m\u001b[1;32m     15\u001b[0m                     columns=['Start', 'End', 'MAE base', 'MAE trends', 'l-ratio'])\n\u001b[1;32m     16\u001b[0m     \u001b[0mprint\u001b[0m\u001b[0;34m(\u001b[0m\u001b[0mdf\u001b[0m\u001b[0;34m)\u001b[0m\u001b[0;34m\u001b[0m\u001b[0;34m\u001b[0m\u001b[0m\n",
      "\u001b[0;32m/opt/anaconda3/lib/python3.8/site-packages/pandas/core/frame.py\u001b[0m in \u001b[0;36m__init__\u001b[0;34m(self, data, index, columns, dtype, copy)\u001b[0m\n\u001b[1;32m    521\u001b[0m                     \u001b[0mmgr\u001b[0m \u001b[0;34m=\u001b[0m \u001b[0marrays_to_mgr\u001b[0m\u001b[0;34m(\u001b[0m\u001b[0marrays\u001b[0m\u001b[0;34m,\u001b[0m \u001b[0mcolumns\u001b[0m\u001b[0;34m,\u001b[0m \u001b[0mindex\u001b[0m\u001b[0;34m,\u001b[0m \u001b[0mcolumns\u001b[0m\u001b[0;34m,\u001b[0m \u001b[0mdtype\u001b[0m\u001b[0;34m=\u001b[0m\u001b[0mdtype\u001b[0m\u001b[0;34m)\u001b[0m\u001b[0;34m\u001b[0m\u001b[0;34m\u001b[0m\u001b[0m\n\u001b[1;32m    522\u001b[0m                 \u001b[0;32melse\u001b[0m\u001b[0;34m:\u001b[0m\u001b[0;34m\u001b[0m\u001b[0;34m\u001b[0m\u001b[0m\n\u001b[0;32m--> 523\u001b[0;31m                     \u001b[0mmgr\u001b[0m \u001b[0;34m=\u001b[0m \u001b[0minit_ndarray\u001b[0m\u001b[0;34m(\u001b[0m\u001b[0mdata\u001b[0m\u001b[0;34m,\u001b[0m \u001b[0mindex\u001b[0m\u001b[0;34m,\u001b[0m \u001b[0mcolumns\u001b[0m\u001b[0;34m,\u001b[0m \u001b[0mdtype\u001b[0m\u001b[0;34m=\u001b[0m\u001b[0mdtype\u001b[0m\u001b[0;34m,\u001b[0m \u001b[0mcopy\u001b[0m\u001b[0;34m=\u001b[0m\u001b[0mcopy\u001b[0m\u001b[0;34m)\u001b[0m\u001b[0;34m\u001b[0m\u001b[0;34m\u001b[0m\u001b[0m\n\u001b[0m\u001b[1;32m    524\u001b[0m             \u001b[0;32melse\u001b[0m\u001b[0;34m:\u001b[0m\u001b[0;34m\u001b[0m\u001b[0;34m\u001b[0m\u001b[0m\n\u001b[1;32m    525\u001b[0m                 \u001b[0mmgr\u001b[0m \u001b[0;34m=\u001b[0m \u001b[0minit_dict\u001b[0m\u001b[0;34m(\u001b[0m\u001b[0;34m{\u001b[0m\u001b[0;34m}\u001b[0m\u001b[0;34m,\u001b[0m \u001b[0mindex\u001b[0m\u001b[0;34m,\u001b[0m \u001b[0mcolumns\u001b[0m\u001b[0;34m,\u001b[0m \u001b[0mdtype\u001b[0m\u001b[0;34m=\u001b[0m\u001b[0mdtype\u001b[0m\u001b[0;34m)\u001b[0m\u001b[0;34m\u001b[0m\u001b[0;34m\u001b[0m\u001b[0m\n",
      "\u001b[0;32m/opt/anaconda3/lib/python3.8/site-packages/pandas/core/internals/construction.py\u001b[0m in \u001b[0;36minit_ndarray\u001b[0;34m(values, index, columns, dtype, copy)\u001b[0m\n\u001b[1;32m    232\u001b[0m         \u001b[0mblock_values\u001b[0m \u001b[0;34m=\u001b[0m \u001b[0;34m[\u001b[0m\u001b[0mvalues\u001b[0m\u001b[0;34m]\u001b[0m\u001b[0;34m\u001b[0m\u001b[0;34m\u001b[0m\u001b[0m\n\u001b[1;32m    233\u001b[0m \u001b[0;34m\u001b[0m\u001b[0m\n\u001b[0;32m--> 234\u001b[0;31m     \u001b[0;32mreturn\u001b[0m \u001b[0mcreate_block_manager_from_blocks\u001b[0m\u001b[0;34m(\u001b[0m\u001b[0mblock_values\u001b[0m\u001b[0;34m,\u001b[0m \u001b[0;34m[\u001b[0m\u001b[0mcolumns\u001b[0m\u001b[0;34m,\u001b[0m \u001b[0mindex\u001b[0m\u001b[0;34m]\u001b[0m\u001b[0;34m)\u001b[0m\u001b[0;34m\u001b[0m\u001b[0;34m\u001b[0m\u001b[0m\n\u001b[0m\u001b[1;32m    235\u001b[0m \u001b[0;34m\u001b[0m\u001b[0m\n\u001b[1;32m    236\u001b[0m \u001b[0;34m\u001b[0m\u001b[0m\n",
      "\u001b[0;32m/opt/anaconda3/lib/python3.8/site-packages/pandas/core/internals/managers.py\u001b[0m in \u001b[0;36mcreate_block_manager_from_blocks\u001b[0;34m(blocks, axes)\u001b[0m\n\u001b[1;32m   1670\u001b[0m         \u001b[0mblocks\u001b[0m \u001b[0;34m=\u001b[0m \u001b[0;34m[\u001b[0m\u001b[0mgetattr\u001b[0m\u001b[0;34m(\u001b[0m\u001b[0mb\u001b[0m\u001b[0;34m,\u001b[0m \u001b[0;34m\"values\"\u001b[0m\u001b[0;34m,\u001b[0m \u001b[0mb\u001b[0m\u001b[0;34m)\u001b[0m \u001b[0;32mfor\u001b[0m \u001b[0mb\u001b[0m \u001b[0;32min\u001b[0m \u001b[0mblocks\u001b[0m\u001b[0;34m]\u001b[0m\u001b[0;34m\u001b[0m\u001b[0;34m\u001b[0m\u001b[0m\n\u001b[1;32m   1671\u001b[0m         \u001b[0mtot_items\u001b[0m \u001b[0;34m=\u001b[0m \u001b[0msum\u001b[0m\u001b[0;34m(\u001b[0m\u001b[0mb\u001b[0m\u001b[0;34m.\u001b[0m\u001b[0mshape\u001b[0m\u001b[0;34m[\u001b[0m\u001b[0;36m0\u001b[0m\u001b[0;34m]\u001b[0m \u001b[0;32mfor\u001b[0m \u001b[0mb\u001b[0m \u001b[0;32min\u001b[0m \u001b[0mblocks\u001b[0m\u001b[0;34m)\u001b[0m\u001b[0;34m\u001b[0m\u001b[0;34m\u001b[0m\u001b[0m\n\u001b[0;32m-> 1672\u001b[0;31m         \u001b[0;32mraise\u001b[0m \u001b[0mconstruction_error\u001b[0m\u001b[0;34m(\u001b[0m\u001b[0mtot_items\u001b[0m\u001b[0;34m,\u001b[0m \u001b[0mblocks\u001b[0m\u001b[0;34m[\u001b[0m\u001b[0;36m0\u001b[0m\u001b[0;34m]\u001b[0m\u001b[0;34m.\u001b[0m\u001b[0mshape\u001b[0m\u001b[0;34m[\u001b[0m\u001b[0;36m1\u001b[0m\u001b[0;34m:\u001b[0m\u001b[0;34m]\u001b[0m\u001b[0;34m,\u001b[0m \u001b[0maxes\u001b[0m\u001b[0;34m,\u001b[0m \u001b[0me\u001b[0m\u001b[0;34m)\u001b[0m\u001b[0;34m\u001b[0m\u001b[0;34m\u001b[0m\u001b[0m\n\u001b[0m\u001b[1;32m   1673\u001b[0m \u001b[0;34m\u001b[0m\u001b[0m\n\u001b[1;32m   1674\u001b[0m \u001b[0;34m\u001b[0m\u001b[0m\n",
      "\u001b[0;31mValueError\u001b[0m: Shape of passed values is (5, 1), indices imply (5, 5)"
     ]
    }
   ],
   "source": [
    "for period in periods:\n",
    "    table.append(get_MAE(claims_reduced, basedf, trendsdf, period), ignore_index=True)\n",
    "\n",
    "print(\"Behavior of MAE around Turning Points\")"
   ]
  },
  {
   "cell_type": "markdown",
   "metadata": {},
   "source": [
    "## 5 - Conclusions"
   ]
  },
  {
   "cell_type": "markdown",
   "metadata": {},
   "source": [
    "For this second replication, I first did some data wrangling in order to get a dataset as close as possible from the paper. To do so, I had to remove the seasonality from the provided Trends dataset using the available python library. This might have worked pretty well as I was able to get similar parameters for both, the baseline and the trends AR-1 model, after comparing different way of computing the regression.\n",
    "\n",
    "Then, for the out-of-sample forecasting, I used a rolling window of period k=6 as the one-step-ahead forecast doesn't seem to work with AutoReg.\n",
    "Finally, I wrote the code allowing to compute the MAE around Turning points and fill the table period (=turning point) by period. However, the results doesn't make sense so I didn't display them.\n",
    "\n",
    "Indeed the improvement is hugely negative as the MAE is 0% for the baseline and 0.1% for trends. The small MAEs are perhaps due to the fact that I use a rolling window instead of the one-step-ahead forecast."
   ]
  },
  {
   "cell_type": "markdown",
   "metadata": {},
   "source": [
    "PS: it's worth noting that the authors of the paper used R to build their models and thus the library they used might higly differ from the statsmodel one provided in python."
   ]
  },
  {
   "cell_type": "code",
   "execution_count": null,
   "metadata": {},
   "outputs": [],
   "source": []
  }
 ],
 "metadata": {
  "kernelspec": {
   "display_name": "Python 3",
   "language": "python",
   "name": "python3"
  },
  "language_info": {
   "codemirror_mode": {
    "name": "ipython",
    "version": 3
   },
   "file_extension": ".py",
   "mimetype": "text/x-python",
   "name": "python",
   "nbconvert_exporter": "python",
   "pygments_lexer": "ipython3",
   "version": "3.8.5"
  },
  "toc": {
   "base_numbering": 1,
   "nav_menu": {},
   "number_sections": true,
   "sideBar": true,
   "skip_h1_title": false,
   "title_cell": "Table of Contents",
   "title_sidebar": "Contents",
   "toc_cell": false,
   "toc_position": {},
   "toc_section_display": true,
   "toc_window_display": false
  },
  "varInspector": {
   "cols": {
    "lenName": 16,
    "lenType": 16,
    "lenVar": 40
   },
   "kernels_config": {
    "python": {
     "delete_cmd_postfix": "",
     "delete_cmd_prefix": "del ",
     "library": "var_list.py",
     "varRefreshCmd": "print(var_dic_list())"
    },
    "r": {
     "delete_cmd_postfix": ") ",
     "delete_cmd_prefix": "rm(",
     "library": "var_list.r",
     "varRefreshCmd": "cat(var_dic_list()) "
    }
   },
   "types_to_exclude": [
    "module",
    "function",
    "builtin_function_or_method",
    "instance",
    "_Feature"
   ],
   "window_display": false
  }
 },
 "nbformat": 4,
 "nbformat_minor": 4
}
